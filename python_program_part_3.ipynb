{
  "nbformat": 4,
  "nbformat_minor": 0,
  "metadata": {
    "colab": {
      "name": "python program part-3.ipynb",
      "provenance": [],
      "include_colab_link": true
    },
    "kernelspec": {
      "name": "python3",
      "display_name": "Python 3"
    }
  },
  "cells": [
    {
      "cell_type": "markdown",
      "metadata": {
        "id": "view-in-github",
        "colab_type": "text"
      },
      "source": [
        "<a href=\"https://colab.research.google.com/github/annanyasharma/Real-Time-Object-Detection-With-OpenCV/blob/master/python_program_part_3.ipynb\" target=\"_parent\"><img src=\"https://colab.research.google.com/assets/colab-badge.svg\" alt=\"Open In Colab\"/></a>"
      ]
    },
    {
      "cell_type": "markdown",
      "metadata": {
        "id": "AdF0FMQ7vfS_"
      },
      "source": [
        "Write a Program to Count the Number of Each Vowel from a string.\n",
        "\n",
        "Input : string = Hello, have you tried our tutorial section yet?\n",
        "\n",
        "Output : {'o': 5, 'i': 3, 'a': 2, 'e': 5, 'u': 3}"
      ]
    },
    {
      "cell_type": "code",
      "metadata": {
        "id": "6reOLxPdf0_7",
        "outputId": "e156da07-f599-42a4-f4de-d7ac8a216272",
        "colab": {
          "base_uri": "https://localhost:8080/"
        }
      },
      "source": [
        "string = \"Hello, have you tired our tuttutorialsection yet?\"\n",
        "vowel = 'aeiou'\n",
        "string = string.casefold()\n",
        "count = {}.fromkeys(vowel,0)\n",
        "\n",
        "for char in string:\n",
        "  if char in count:\n",
        "    count[char] += 1\n",
        "  else:\n",
        "    print(char, end=\"\")\n",
        "\n",
        "print()\n",
        "print(count)\n",
        "\n",
        "for i in count.keys() and count.items():\n",
        "    print(i)"
      ],
      "execution_count": 58,
      "outputs": [
        {
          "output_type": "stream",
          "text": [
            "hll, hv y trd r ttttrlsctn yt?\n",
            "{'a': 2, 'e': 5, 'i': 3, 'o': 5, 'u': 4}\n",
            "('a', 2)\n",
            "('e', 5)\n",
            "('i', 3)\n",
            "('o', 5)\n",
            "('u', 4)\n"
          ],
          "name": "stdout"
        }
      ]
    },
    {
      "cell_type": "code",
      "metadata": {
        "id": "GuM5roh5xp_d"
      },
      "source": [
        "#code"
      ],
      "execution_count": 28,
      "outputs": []
    },
    {
      "cell_type": "markdown",
      "metadata": {
        "id": "dG3L4GWPw65E"
      },
      "source": [
        "Write a Program to Sort Words in Alphabetic Order. (which word in dictionary occur first)\n",
        "\n",
        "Input : string = \"Hello this Is an Example With cased letters\"\n",
        "\n",
        "Output :\n",
        "\n",
        "        an\n",
        "        cased\n",
        "        example\n",
        "        hello\n",
        "        is\n",
        "        letters\n",
        "        this\n",
        "        with"
      ]
    },
    {
      "cell_type": "code",
      "metadata": {
        "id": "1KTvc-xnFNpH",
        "outputId": "0677c5e3-9632-4161-e6e1-695820a3f385",
        "colab": {
          "base_uri": "https://localhost:8080/"
        }
      },
      "source": [
        "sorted(\"This is a test string from Andrew\".split(), key=str.lower)"
      ],
      "execution_count": 75,
      "outputs": [
        {
          "output_type": "execute_result",
          "data": {
            "text/plain": [
              "['a', 'Andrew', 'from', 'is', 'string', 'test', 'This']"
            ]
          },
          "metadata": {
            "tags": []
          },
          "execution_count": 75
        }
      ]
    },
    {
      "cell_type": "code",
      "metadata": {
        "id": "A6v6yVA9Azuz",
        "outputId": "5d3c6b32-b0f1-4c76-8420-10ef8c92bb47",
        "colab": {
          "base_uri": "https://localhost:8080/"
        }
      },
      "source": [
        "string = sorted(\"Hello this Is an Example With cased letters\".split(), key = str.lower)\n",
        "for i in string:\n",
        "  print(i)"
      ],
      "execution_count": 78,
      "outputs": [
        {
          "output_type": "stream",
          "text": [
            "an\n",
            "cased\n",
            "Example\n",
            "Hello\n",
            "Is\n",
            "letters\n",
            "this\n",
            "With\n"
          ],
          "name": "stdout"
        }
      ]
    },
    {
      "cell_type": "code",
      "metadata": {
        "id": "w_NdvXLMt7Af"
      },
      "source": [
        "#solution"
      ],
      "execution_count": 26,
      "outputs": []
    },
    {
      "cell_type": "markdown",
      "metadata": {
        "id": "3nwoIx4KxsW4"
      },
      "source": [
        "Write a Program to Remove Punctuations From a String.\n",
        "\n",
        "Punctuations Mark : (!()-[]{};:'\"\\,<>./?@#$%^&*_~)\n",
        "\n",
        "Input : string = \"Hello!!!, he said ---and went\"\n",
        "\n",
        "Output : Hello he said and went"
      ]
    },
    {
      "cell_type": "code",
      "metadata": {
        "id": "US1oc5ERFuJN",
        "outputId": "7e3362aa-f0ed-43e3-dcd9-4f19fe36b0d8",
        "colab": {
          "base_uri": "https://localhost:8080/"
        }
      },
      "source": [
        "def remove_punctuations(string):\n",
        "  punctuations_mark = '''!()-[]{};:'\",<>./?@#$%^&*_~'''\n",
        "  for x in string.lower():\n",
        "    if x in punctuations_mark:\n",
        "      string = string.replace(x, \"\")\n",
        "  print(string)\n",
        "string = \"Hello!!!, he said ---and went\"\n",
        "remove_punctuations(string)"
      ],
      "execution_count": 103,
      "outputs": [
        {
          "output_type": "stream",
          "text": [
            "Hello he said and went\n"
          ],
          "name": "stdout"
        }
      ]
    },
    {
      "cell_type": "code",
      "metadata": {
        "id": "bSrYrg66zQAZ"
      },
      "source": [
        "#code"
      ],
      "execution_count": 100,
      "outputs": []
    }
  ]
}